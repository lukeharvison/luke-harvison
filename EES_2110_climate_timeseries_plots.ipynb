{
  "nbformat": 4,
  "nbformat_minor": 0,
  "metadata": {
    "colab": {
      "provenance": [],
      "toc_visible": true,
      "include_colab_link": true
    },
    "kernelspec": {
      "name": "python3",
      "display_name": "Python 3"
    },
    "language_info": {
      "name": "python"
    }
  },
  "cells": [
    {
      "cell_type": "markdown",
      "metadata": {
        "id": "view-in-github",
        "colab_type": "text"
      },
      "source": [
        "<a href=\"https://colab.research.google.com/github/lukeharvison/luke-harvison/blob/main/EES_2110_climate_timeseries_plots.ipynb\" target=\"_parent\"><img src=\"https://colab.research.google.com/assets/colab-badge.svg\" alt=\"Open In Colab\"/></a>"
      ]
    },
    {
      "cell_type": "markdown",
      "source": [
        "# <font color=green> EES 2110 Time Series Plots for Temperature and CO2 </font>\n",
        "\n",
        "    Python exercise 3:\n",
        "    Objective: Get familiar with time series plots."
      ],
      "metadata": {
        "id": "2C1UehO7cfGI"
      }
    },
    {
      "cell_type": "markdown",
      "source": [
        "# Step 1: Connect with your Google Drive.\n",
        "\n",
        "We will load the necessary data from your Google Drive."
      ],
      "metadata": {
        "id": "mUcOgAV--khV"
      }
    },
    {
      "cell_type": "code",
      "source": [
        "#connect with your google drive\n",
        "from google.colab import drive  #import the drive library\n",
        "drive.mount('/content/drive')  #mount"
      ],
      "metadata": {
        "id": "_EDx-P_WcpVu",
        "colab": {
          "base_uri": "https://localhost:8080/",
          "height": 321
        },
        "outputId": "aa36230e-cb8e-4c5f-a9a2-7b408ca140ed"
      },
      "execution_count": 4,
      "outputs": [
        {
          "output_type": "error",
          "ename": "ValueError",
          "evalue": "Mountpoint must be in a directory that exists",
          "traceback": [
            "\u001b[0;31m---------------------------------------------------------------------------\u001b[0m",
            "\u001b[0;31mValueError\u001b[0m                                Traceback (most recent call last)",
            "\u001b[0;32m<ipython-input-4-dd78d9cb461d>\u001b[0m in \u001b[0;36m<cell line: 0>\u001b[0;34m()\u001b[0m\n\u001b[1;32m      1\u001b[0m \u001b[0;31m#connect with your google drive\u001b[0m\u001b[0;34m\u001b[0m\u001b[0;34m\u001b[0m\u001b[0m\n\u001b[1;32m      2\u001b[0m \u001b[0;32mfrom\u001b[0m \u001b[0mgoogle\u001b[0m\u001b[0;34m.\u001b[0m\u001b[0mcolab\u001b[0m \u001b[0;32mimport\u001b[0m \u001b[0mdrive\u001b[0m  \u001b[0;31m#import the drive library\u001b[0m\u001b[0;34m\u001b[0m\u001b[0;34m\u001b[0m\u001b[0m\n\u001b[0;32m----> 3\u001b[0;31m \u001b[0mdrive\u001b[0m\u001b[0;34m.\u001b[0m\u001b[0mmount\u001b[0m\u001b[0;34m(\u001b[0m\u001b[0;34m'/content/drive/u/0/my-drive'\u001b[0m\u001b[0;34m)\u001b[0m  \u001b[0;31m#mount\u001b[0m\u001b[0;34m\u001b[0m\u001b[0;34m\u001b[0m\u001b[0m\n\u001b[0m",
            "\u001b[0;32m/usr/local/lib/python3.11/dist-packages/google/colab/drive.py\u001b[0m in \u001b[0;36mmount\u001b[0;34m(mountpoint, force_remount, timeout_ms, readonly)\u001b[0m\n\u001b[1;32m     98\u001b[0m \u001b[0;32mdef\u001b[0m \u001b[0mmount\u001b[0m\u001b[0;34m(\u001b[0m\u001b[0mmountpoint\u001b[0m\u001b[0;34m,\u001b[0m \u001b[0mforce_remount\u001b[0m\u001b[0;34m=\u001b[0m\u001b[0;32mFalse\u001b[0m\u001b[0;34m,\u001b[0m \u001b[0mtimeout_ms\u001b[0m\u001b[0;34m=\u001b[0m\u001b[0;36m120000\u001b[0m\u001b[0;34m,\u001b[0m \u001b[0mreadonly\u001b[0m\u001b[0;34m=\u001b[0m\u001b[0;32mFalse\u001b[0m\u001b[0;34m)\u001b[0m\u001b[0;34m:\u001b[0m\u001b[0;34m\u001b[0m\u001b[0;34m\u001b[0m\u001b[0m\n\u001b[1;32m     99\u001b[0m   \u001b[0;34m\"\"\"Mount your Google Drive at the specified mountpoint path.\"\"\"\u001b[0m\u001b[0;34m\u001b[0m\u001b[0;34m\u001b[0m\u001b[0m\n\u001b[0;32m--> 100\u001b[0;31m   return _mount(\n\u001b[0m\u001b[1;32m    101\u001b[0m       \u001b[0mmountpoint\u001b[0m\u001b[0;34m,\u001b[0m\u001b[0;34m\u001b[0m\u001b[0;34m\u001b[0m\u001b[0m\n\u001b[1;32m    102\u001b[0m       \u001b[0mforce_remount\u001b[0m\u001b[0;34m=\u001b[0m\u001b[0mforce_remount\u001b[0m\u001b[0;34m,\u001b[0m\u001b[0;34m\u001b[0m\u001b[0;34m\u001b[0m\u001b[0m\n",
            "\u001b[0;32m/usr/local/lib/python3.11/dist-packages/google/colab/drive.py\u001b[0m in \u001b[0;36m_mount\u001b[0;34m(mountpoint, force_remount, timeout_ms, ephemeral, readonly)\u001b[0m\n\u001b[1;32m    202\u001b[0m     \u001b[0mnormed\u001b[0m \u001b[0;34m=\u001b[0m \u001b[0m_os\u001b[0m\u001b[0;34m.\u001b[0m\u001b[0mpath\u001b[0m\u001b[0;34m.\u001b[0m\u001b[0mnormpath\u001b[0m\u001b[0;34m(\u001b[0m\u001b[0mmountpoint\u001b[0m\u001b[0;34m)\u001b[0m\u001b[0;34m\u001b[0m\u001b[0;34m\u001b[0m\u001b[0m\n\u001b[1;32m    203\u001b[0m     \u001b[0;32mif\u001b[0m \u001b[0;34m'/'\u001b[0m \u001b[0;32min\u001b[0m \u001b[0mnormed\u001b[0m \u001b[0;32mand\u001b[0m \u001b[0;32mnot\u001b[0m \u001b[0m_os\u001b[0m\u001b[0;34m.\u001b[0m\u001b[0mpath\u001b[0m\u001b[0;34m.\u001b[0m\u001b[0mexists\u001b[0m\u001b[0;34m(\u001b[0m\u001b[0m_os\u001b[0m\u001b[0;34m.\u001b[0m\u001b[0mpath\u001b[0m\u001b[0;34m.\u001b[0m\u001b[0mdirname\u001b[0m\u001b[0;34m(\u001b[0m\u001b[0mnormed\u001b[0m\u001b[0;34m)\u001b[0m\u001b[0;34m)\u001b[0m\u001b[0;34m:\u001b[0m\u001b[0;34m\u001b[0m\u001b[0;34m\u001b[0m\u001b[0m\n\u001b[0;32m--> 204\u001b[0;31m       \u001b[0;32mraise\u001b[0m \u001b[0mValueError\u001b[0m\u001b[0;34m(\u001b[0m\u001b[0;34m'Mountpoint must be in a directory that exists'\u001b[0m\u001b[0;34m)\u001b[0m\u001b[0;34m\u001b[0m\u001b[0;34m\u001b[0m\u001b[0m\n\u001b[0m\u001b[1;32m    205\u001b[0m   \u001b[0;32mexcept\u001b[0m\u001b[0;34m:\u001b[0m\u001b[0;34m\u001b[0m\u001b[0;34m\u001b[0m\u001b[0m\n\u001b[1;32m    206\u001b[0m     \u001b[0md\u001b[0m\u001b[0;34m.\u001b[0m\u001b[0mkill\u001b[0m\u001b[0;34m(\u001b[0m\u001b[0m_signal\u001b[0m\u001b[0;34m.\u001b[0m\u001b[0mSIGKILL\u001b[0m\u001b[0;34m)\u001b[0m\u001b[0;34m\u001b[0m\u001b[0;34m\u001b[0m\u001b[0m\n",
            "\u001b[0;31mValueError\u001b[0m: Mountpoint must be in a directory that exists"
          ]
        }
      ]
    },
    {
      "cell_type": "markdown",
      "source": [
        "# Step 2: Importing Libraries\n",
        "Let’s start by importing the libraries needed for this session."
      ],
      "metadata": {
        "id": "wu1wiOl_-vM9"
      }
    },
    {
      "cell_type": "code",
      "source": [
        "import numpy as np               # A library for numerical calculations\n",
        "import matplotlib.pyplot as plt  # For plotting\n",
        "import pandas as pd              # For handling data and extracting stored variables\n"
      ],
      "metadata": {
        "id": "SHy5-oOrOBJl"
      },
      "execution_count": 2,
      "outputs": []
    },
    {
      "cell_type": "markdown",
      "source": [
        "# Step 3: Loading Climate Data\n",
        "We'll load a climate dataset from the CSV file located in your Google Drive."
      ],
      "metadata": {
        "id": "4_7rV-Bz-2tC"
      }
    },
    {
      "cell_type": "code",
      "source": [
        "# Load the CSV file from your Google Drive\n",
        "# Note: Change the data path below to the correct path where your CSV file is located.\n",
        "df_climate = pd.read_csv('/content/drive/MyDrive/EES2110/climate_data.csv')\n",
        "\n",
        "# Display the DataFrame to inspect its contents\n",
        "df_climate\n"
      ],
      "metadata": {
        "id": "ksMb914Kbz4d",
        "colab": {
          "base_uri": "https://localhost:8080/",
          "height": 373
        },
        "outputId": "edac467c-3a6c-47d1-bc42-cbe0ad75a83a"
      },
      "execution_count": 3,
      "outputs": [
        {
          "output_type": "error",
          "ename": "FileNotFoundError",
          "evalue": "[Errno 2] No such file or directory: '/content/drive/MyDrive/EES2110/climate_data.csv'",
          "traceback": [
            "\u001b[0;31m---------------------------------------------------------------------------\u001b[0m",
            "\u001b[0;31mFileNotFoundError\u001b[0m                         Traceback (most recent call last)",
            "\u001b[0;32m<ipython-input-3-e51ee0180f08>\u001b[0m in \u001b[0;36m<cell line: 0>\u001b[0;34m()\u001b[0m\n\u001b[1;32m      1\u001b[0m \u001b[0;31m# Load the CSV file from your Google Drive\u001b[0m\u001b[0;34m\u001b[0m\u001b[0;34m\u001b[0m\u001b[0m\n\u001b[1;32m      2\u001b[0m \u001b[0;31m# Note: Change the data path below to the correct path where your CSV file is located.\u001b[0m\u001b[0;34m\u001b[0m\u001b[0;34m\u001b[0m\u001b[0m\n\u001b[0;32m----> 3\u001b[0;31m \u001b[0mdf_climate\u001b[0m \u001b[0;34m=\u001b[0m \u001b[0mpd\u001b[0m\u001b[0;34m.\u001b[0m\u001b[0mread_csv\u001b[0m\u001b[0;34m(\u001b[0m\u001b[0;34m'/content/drive/MyDrive/EES2110/climate_data.csv'\u001b[0m\u001b[0;34m)\u001b[0m\u001b[0;34m\u001b[0m\u001b[0;34m\u001b[0m\u001b[0m\n\u001b[0m\u001b[1;32m      4\u001b[0m \u001b[0;34m\u001b[0m\u001b[0m\n\u001b[1;32m      5\u001b[0m \u001b[0;31m# Display the DataFrame to inspect its contents\u001b[0m\u001b[0;34m\u001b[0m\u001b[0;34m\u001b[0m\u001b[0m\n",
            "\u001b[0;32m/usr/local/lib/python3.11/dist-packages/pandas/io/parsers/readers.py\u001b[0m in \u001b[0;36mread_csv\u001b[0;34m(filepath_or_buffer, sep, delimiter, header, names, index_col, usecols, dtype, engine, converters, true_values, false_values, skipinitialspace, skiprows, skipfooter, nrows, na_values, keep_default_na, na_filter, verbose, skip_blank_lines, parse_dates, infer_datetime_format, keep_date_col, date_parser, date_format, dayfirst, cache_dates, iterator, chunksize, compression, thousands, decimal, lineterminator, quotechar, quoting, doublequote, escapechar, comment, encoding, encoding_errors, dialect, on_bad_lines, delim_whitespace, low_memory, memory_map, float_precision, storage_options, dtype_backend)\u001b[0m\n\u001b[1;32m   1024\u001b[0m     \u001b[0mkwds\u001b[0m\u001b[0;34m.\u001b[0m\u001b[0mupdate\u001b[0m\u001b[0;34m(\u001b[0m\u001b[0mkwds_defaults\u001b[0m\u001b[0;34m)\u001b[0m\u001b[0;34m\u001b[0m\u001b[0;34m\u001b[0m\u001b[0m\n\u001b[1;32m   1025\u001b[0m \u001b[0;34m\u001b[0m\u001b[0m\n\u001b[0;32m-> 1026\u001b[0;31m     \u001b[0;32mreturn\u001b[0m \u001b[0m_read\u001b[0m\u001b[0;34m(\u001b[0m\u001b[0mfilepath_or_buffer\u001b[0m\u001b[0;34m,\u001b[0m \u001b[0mkwds\u001b[0m\u001b[0;34m)\u001b[0m\u001b[0;34m\u001b[0m\u001b[0;34m\u001b[0m\u001b[0m\n\u001b[0m\u001b[1;32m   1027\u001b[0m \u001b[0;34m\u001b[0m\u001b[0m\n\u001b[1;32m   1028\u001b[0m \u001b[0;34m\u001b[0m\u001b[0m\n",
            "\u001b[0;32m/usr/local/lib/python3.11/dist-packages/pandas/io/parsers/readers.py\u001b[0m in \u001b[0;36m_read\u001b[0;34m(filepath_or_buffer, kwds)\u001b[0m\n\u001b[1;32m    618\u001b[0m \u001b[0;34m\u001b[0m\u001b[0m\n\u001b[1;32m    619\u001b[0m     \u001b[0;31m# Create the parser.\u001b[0m\u001b[0;34m\u001b[0m\u001b[0;34m\u001b[0m\u001b[0m\n\u001b[0;32m--> 620\u001b[0;31m     \u001b[0mparser\u001b[0m \u001b[0;34m=\u001b[0m \u001b[0mTextFileReader\u001b[0m\u001b[0;34m(\u001b[0m\u001b[0mfilepath_or_buffer\u001b[0m\u001b[0;34m,\u001b[0m \u001b[0;34m**\u001b[0m\u001b[0mkwds\u001b[0m\u001b[0;34m)\u001b[0m\u001b[0;34m\u001b[0m\u001b[0;34m\u001b[0m\u001b[0m\n\u001b[0m\u001b[1;32m    621\u001b[0m \u001b[0;34m\u001b[0m\u001b[0m\n\u001b[1;32m    622\u001b[0m     \u001b[0;32mif\u001b[0m \u001b[0mchunksize\u001b[0m \u001b[0;32mor\u001b[0m \u001b[0miterator\u001b[0m\u001b[0;34m:\u001b[0m\u001b[0;34m\u001b[0m\u001b[0;34m\u001b[0m\u001b[0m\n",
            "\u001b[0;32m/usr/local/lib/python3.11/dist-packages/pandas/io/parsers/readers.py\u001b[0m in \u001b[0;36m__init__\u001b[0;34m(self, f, engine, **kwds)\u001b[0m\n\u001b[1;32m   1618\u001b[0m \u001b[0;34m\u001b[0m\u001b[0m\n\u001b[1;32m   1619\u001b[0m         \u001b[0mself\u001b[0m\u001b[0;34m.\u001b[0m\u001b[0mhandles\u001b[0m\u001b[0;34m:\u001b[0m \u001b[0mIOHandles\u001b[0m \u001b[0;34m|\u001b[0m \u001b[0;32mNone\u001b[0m \u001b[0;34m=\u001b[0m \u001b[0;32mNone\u001b[0m\u001b[0;34m\u001b[0m\u001b[0;34m\u001b[0m\u001b[0m\n\u001b[0;32m-> 1620\u001b[0;31m         \u001b[0mself\u001b[0m\u001b[0;34m.\u001b[0m\u001b[0m_engine\u001b[0m \u001b[0;34m=\u001b[0m \u001b[0mself\u001b[0m\u001b[0;34m.\u001b[0m\u001b[0m_make_engine\u001b[0m\u001b[0;34m(\u001b[0m\u001b[0mf\u001b[0m\u001b[0;34m,\u001b[0m \u001b[0mself\u001b[0m\u001b[0;34m.\u001b[0m\u001b[0mengine\u001b[0m\u001b[0;34m)\u001b[0m\u001b[0;34m\u001b[0m\u001b[0;34m\u001b[0m\u001b[0m\n\u001b[0m\u001b[1;32m   1621\u001b[0m \u001b[0;34m\u001b[0m\u001b[0m\n\u001b[1;32m   1622\u001b[0m     \u001b[0;32mdef\u001b[0m \u001b[0mclose\u001b[0m\u001b[0;34m(\u001b[0m\u001b[0mself\u001b[0m\u001b[0;34m)\u001b[0m \u001b[0;34m->\u001b[0m \u001b[0;32mNone\u001b[0m\u001b[0;34m:\u001b[0m\u001b[0;34m\u001b[0m\u001b[0;34m\u001b[0m\u001b[0m\n",
            "\u001b[0;32m/usr/local/lib/python3.11/dist-packages/pandas/io/parsers/readers.py\u001b[0m in \u001b[0;36m_make_engine\u001b[0;34m(self, f, engine)\u001b[0m\n\u001b[1;32m   1878\u001b[0m                 \u001b[0;32mif\u001b[0m \u001b[0;34m\"b\"\u001b[0m \u001b[0;32mnot\u001b[0m \u001b[0;32min\u001b[0m \u001b[0mmode\u001b[0m\u001b[0;34m:\u001b[0m\u001b[0;34m\u001b[0m\u001b[0;34m\u001b[0m\u001b[0m\n\u001b[1;32m   1879\u001b[0m                     \u001b[0mmode\u001b[0m \u001b[0;34m+=\u001b[0m \u001b[0;34m\"b\"\u001b[0m\u001b[0;34m\u001b[0m\u001b[0;34m\u001b[0m\u001b[0m\n\u001b[0;32m-> 1880\u001b[0;31m             self.handles = get_handle(\n\u001b[0m\u001b[1;32m   1881\u001b[0m                 \u001b[0mf\u001b[0m\u001b[0;34m,\u001b[0m\u001b[0;34m\u001b[0m\u001b[0;34m\u001b[0m\u001b[0m\n\u001b[1;32m   1882\u001b[0m                 \u001b[0mmode\u001b[0m\u001b[0;34m,\u001b[0m\u001b[0;34m\u001b[0m\u001b[0;34m\u001b[0m\u001b[0m\n",
            "\u001b[0;32m/usr/local/lib/python3.11/dist-packages/pandas/io/common.py\u001b[0m in \u001b[0;36mget_handle\u001b[0;34m(path_or_buf, mode, encoding, compression, memory_map, is_text, errors, storage_options)\u001b[0m\n\u001b[1;32m    871\u001b[0m         \u001b[0;32mif\u001b[0m \u001b[0mioargs\u001b[0m\u001b[0;34m.\u001b[0m\u001b[0mencoding\u001b[0m \u001b[0;32mand\u001b[0m \u001b[0;34m\"b\"\u001b[0m \u001b[0;32mnot\u001b[0m \u001b[0;32min\u001b[0m \u001b[0mioargs\u001b[0m\u001b[0;34m.\u001b[0m\u001b[0mmode\u001b[0m\u001b[0;34m:\u001b[0m\u001b[0;34m\u001b[0m\u001b[0;34m\u001b[0m\u001b[0m\n\u001b[1;32m    872\u001b[0m             \u001b[0;31m# Encoding\u001b[0m\u001b[0;34m\u001b[0m\u001b[0;34m\u001b[0m\u001b[0m\n\u001b[0;32m--> 873\u001b[0;31m             handle = open(\n\u001b[0m\u001b[1;32m    874\u001b[0m                 \u001b[0mhandle\u001b[0m\u001b[0;34m,\u001b[0m\u001b[0;34m\u001b[0m\u001b[0;34m\u001b[0m\u001b[0m\n\u001b[1;32m    875\u001b[0m                 \u001b[0mioargs\u001b[0m\u001b[0;34m.\u001b[0m\u001b[0mmode\u001b[0m\u001b[0;34m,\u001b[0m\u001b[0;34m\u001b[0m\u001b[0;34m\u001b[0m\u001b[0m\n",
            "\u001b[0;31mFileNotFoundError\u001b[0m: [Errno 2] No such file or directory: '/content/drive/MyDrive/EES2110/climate_data.csv'"
          ]
        }
      ]
    },
    {
      "cell_type": "markdown",
      "source": [
        "# Step 4: Extracting Data from the DataFrame\n",
        "Now, let’s extract the columns we’ll be working with for temperature (T) and CO2 data."
      ],
      "metadata": {
        "id": "QJ08uyr2_KAu"
      }
    },
    {
      "cell_type": "code",
      "source": [
        "# Extract the T and CO2 columns from the DataFrame\n",
        "# 'T_column1' and 'T_column2' represent the columns for temperature data\n",
        "# 'CO2_column1' and 'CO2_column2' represent the columns for CO2 data\n",
        "\n",
        "# Extract temperature data\n",
        "T = df_climate[['T_column1', 'T_column2']].values\n",
        "\n",
        "# Extract CO2 data\n",
        "CO2 = df_climate[['CO2_column1', 'CO2_column2']].values\n",
        "\n",
        "# Print the dimensions of the temperature data\n",
        "print(\"The dimensions of the input temperature data are:\", T.shape)\n",
        "# Note: T is a NumPy array with two columns - one for years and one for temperature values\n",
        "\n",
        "\n"
      ],
      "metadata": {
        "id": "XkNuy6hwg-cS",
        "colab": {
          "base_uri": "https://localhost:8080/"
        },
        "outputId": "ebaf471c-a314-4488-db15-ccebb0b1b7df"
      },
      "execution_count": null,
      "outputs": [
        {
          "output_type": "stream",
          "name": "stdout",
          "text": [
            "The dimensions of the input temperature data are: (812, 2)\n"
          ]
        }
      ]
    },
    {
      "cell_type": "markdown",
      "source": [
        "# Step 5: Using a For Loop\n",
        "Let’s read and print temperature data for a few years using a for loop."
      ],
      "metadata": {
        "id": "adXMgIDnaTvg"
      }
    },
    {
      "cell_type": "code",
      "source": [
        "# Print data for a few years using a for loop:\n",
        "print(\"\\n year  , Temperature\")\n",
        "for i in range(0, 10):\n",
        "    print(T[i, 0], \",\", T[i, 1])\n",
        "# note that the for loop is indicated by the indentation\n",
        "# block, in the above case only a single line is in the loop.\n",
        "\n"
      ],
      "metadata": {
        "id": "vmS5tUG_hVQK"
      },
      "execution_count": null,
      "outputs": []
    },
    {
      "cell_type": "markdown",
      "source": [
        "# Step 6: Calculating the Mean Temperature (For Loop)\n",
        "We’ll now calculate the average temperature using a for loop.\n",
        "\n",
        "* Note: The temperature record is an anomaly from the mean, so the average should be near zero."
      ],
      "metadata": {
        "id": "TScpKJ_5_b8F"
      }
    },
    {
      "cell_type": "code",
      "source": [
        "# As another example of a for loop, calculate the mean temperature using a for loop:\n",
        "N = len(T[:, 0])\n",
        "Tavg = 0\n",
        "count = 0  # To count valid temperature values\n",
        "\n",
        "for i in range(0, N):\n",
        "    if not np.isnan(T[i, 1]):  # Only include non-NaN values\n",
        "        Tavg = Tavg + T[i, 1]\n",
        "        count += 1\n",
        "\n",
        "if count > 0:\n",
        "    Tavg = Tavg / count\n",
        "else:\n",
        "    Tavg = np.nan  # Handle the case where there are no valid values\n",
        "\n",
        "print(\"\\naveraged temperature is\", Tavg)\n",
        "# Note that the average is basically zero, as the temperature record is an anomaly from the mean.\n",
        "\n"
      ],
      "metadata": {
        "id": "rRXoPkMjhZaT"
      },
      "execution_count": null,
      "outputs": []
    },
    {
      "cell_type": "markdown",
      "source": [
        "# Step 7: Using Numpy for the Mean\n",
        "Now, let's use a Numpy function to calculate the mean temperature:"
      ],
      "metadata": {
        "id": "p-eYIFLo_lxB"
      }
    },
    {
      "cell_type": "code",
      "source": [
        "# Calculate the mean using a numpy function, excluding NaNs:\n",
        "Tavg_numpy = np.nanmean(T[:, 1])\n",
        "print(\"averaged temperature calculated by numpy function is\", Tavg_numpy)"
      ],
      "metadata": {
        "id": "T2PepFHrhdEy"
      },
      "execution_count": null,
      "outputs": []
    },
    {
      "cell_type": "markdown",
      "source": [
        "## <font color=\"red\"> Exercise: for loop: </font>\n",
        "    \n",
        "<font color=\"red\"> Write a loop that sums the numbers from 1 to 2020\n",
        "</font>"
      ],
      "metadata": {
        "id": "7gC4kIw1awWp"
      }
    },
    {
      "cell_type": "code",
      "source": [
        "# code here:\n",
        "\n"
      ],
      "metadata": {
        "id": "OIc42EIAahZL"
      },
      "execution_count": null,
      "outputs": []
    },
    {
      "cell_type": "markdown",
      "source": [
        "# Step 8: Plotting Temperature Data\n",
        "Let’s plot the temperature data over time."
      ],
      "metadata": {
        "id": "UiuElihfa10B"
      }
    },
    {
      "cell_type": "code",
      "source": [
        "# plot it:\n",
        "# --------\n",
        "import matplotlib.pyplot as plt\n",
        "fig1= plt.figure(1,dpi=300)\n",
        "# python array indices are in square brackets and start from zero:\n",
        "plt.plot(T[:,0],T[:,1],color=\"b\")\n",
        "plt.xlabel(\"Year\")\n",
        "plt.ylabel(\"Temperature (C)\")\n",
        "plt.title(\"observed Temperature record\");"
      ],
      "metadata": {
        "id": "0wAWaT7Ua2PW"
      },
      "execution_count": null,
      "outputs": []
    },
    {
      "cell_type": "markdown",
      "source": [
        "## <font color=\"red\"> Exercise: line plot</font>\n",
        "\n",
        "<font color=\"red\">\n",
        "Plot the function\n",
        "y\n",
        "(\n",
        "x\n",
        ")\n",
        "=\n",
        "sin\n",
        "⁡\n",
        "(\n",
        "x\n",
        ")\n",
        "y(x)=sin(x) for\n",
        "x\n",
        "=\n",
        "−\n",
        "π\n",
        "x=−π to\n",
        "π\n",
        "π.\n",
        "\n",
        "Hint: Create an x array using np.arange(-np.pi, np.pi, 0.1) and use np.sin() to compute the sine values.\n",
        "plot</font>"
      ],
      "metadata": {
        "id": "-dreuPzNbKRP"
      }
    },
    {
      "cell_type": "code",
      "source": [
        "# code here:\n",
        "\n",
        "XX"
      ],
      "metadata": {
        "id": "bne5nnHwa3_l"
      },
      "execution_count": null,
      "outputs": []
    },
    {
      "cell_type": "markdown",
      "source": [
        "# Step 9: Using an If Statement\n",
        "We’ll now use an if statement and a loop to find the warmest year in the dataset."
      ],
      "metadata": {
        "id": "PB59DpACbPm5"
      }
    },
    {
      "cell_type": "code",
      "source": [
        "# first a simple if statement, note again use of indentation to define end of statement:\n",
        "if 2>1:\n",
        "    print(\"yes, 2>1\")\n",
        "else:\n",
        "    print(\"this will never be printed\")\n",
        "\n",
        "\n",
        "# find the warmest year using a combination of a loop and an if statement:\n",
        "Tmax=-100\n",
        "year_max=-100\n",
        "# note the indentations denoting the blocks of the for loop and if statement:\n",
        "for i in range(0,N):  # for loop starts here\n",
        "    if T[i,1]>Tmax:   # if statement starts here\n",
        "        Tmax=T[i,1]\n",
        "        year_max=T[i,0] # this is the last line of both the for loop and the if statement\n",
        "\n",
        "# note how the last element of the array may be referred to via a -1 index:\n",
        "print(\"The first and last years are\",T[0,0],T[-1,0])\n",
        "print(\"The maximum temperature is\", Tmax,\", and it occured in year\",year_max)"
      ],
      "metadata": {
        "id": "lbpxa_nObG3o"
      },
      "execution_count": null,
      "outputs": []
    },
    {
      "cell_type": "markdown",
      "source": [
        "# Step 10: Plotting Two Time Series (Temperature and CO2)\n",
        "We will now plot both temperature and CO2 on the same figure using two y-axes."
      ],
      "metadata": {
        "id": "QHKB7Nu8bbpB"
      }
    },
    {
      "cell_type": "code",
      "source": [
        "fig, ax1 = plt.subplots()\n",
        "\n",
        "color = 'tab:red'\n",
        "ax1.set_xlabel('year')\n",
        "ax1.set_ylabel('CO$_2$', color=color)\n",
        "ax1.plot(CO2[:,0], CO2[:,1], color=color)\n",
        "ax1.tick_params(axis='y', labelcolor=color)\n",
        "\n",
        "ax2 = ax1.twinx()  # instantiate a second axes that shares the same x-axis\n",
        "color = 'tab:blue'\n",
        "ax2.set_ylabel('Temperature', color=color)  # we already handled the x-label with ax1\n",
        "ax2.plot(T[:,0],T[:,1], color=color)\n",
        "ax2.tick_params(axis='y', labelcolor=color)\n",
        "\n",
        "fig.tight_layout()  # otherwise the right y-label is slightly clipped\n",
        "plt.show()\n"
      ],
      "metadata": {
        "id": "e2o2hjRZbe6P"
      },
      "execution_count": null,
      "outputs": []
    },
    {
      "cell_type": "markdown",
      "source": [
        "# <font color=\"red\">Exercise: Plotting two time series on the same axes using 2 $y$-axes<font>\n",
        "\n",
        "Insert a code cell below this point, and plot sine(x) and 5.cos(x) from $x=0$ to $x=2\\pi$\n",
        "\n",
        "XX insert a code cell below this point."
      ],
      "metadata": {
        "id": "t0Waz3rsbmBp"
      }
    },
    {
      "cell_type": "code",
      "source": [
        "# code:\n",
        "\n"
      ],
      "metadata": {
        "id": "W0egYPtGiuxZ"
      },
      "execution_count": null,
      "outputs": []
    },
    {
      "cell_type": "markdown",
      "source": [
        "## Getting help from chatGPT\n",
        "\n",
        "#### (a) Provide the following instruction to chatGPT, copy paste the resulting code into a new code cell below, test the code and adjust it as needed to make it work.\n",
        "\n",
        "write a python code to create two numpy arrays with x going from -pi to +pi and y=3*exp(-x)*cos(x). plot y as a function of x using matplotlib. save the result to a pdf file named myfigureoutput.pdf."
      ],
      "metadata": {
        "id": "8AwSDqP2bpDT"
      }
    },
    {
      "cell_type": "code",
      "source": [
        "# Code:\n"
      ],
      "metadata": {
        "id": "mV6U2dlRiqqj"
      },
      "execution_count": null,
      "outputs": []
    },
    {
      "cell_type": "markdown",
      "source": [
        "#### (b) Ask chatGPT to correct the following buggy code, replace the code with the corrected one and make sure it runs."
      ],
      "metadata": {
        "id": "Vygknpuvbr6Y"
      }
    },
    {
      "cell_type": "code",
      "source": [
        "import numpy as np\n",
        "import matplotlib.pyplot as plt\n",
        "\n",
        "x=np.arange(-2*pi,pi,0.1)\n",
        "f=cos(x)\n",
        "plt.figure(1)\n",
        "plt.clf()\n",
        "plt.plot(x,f)\n",
        "# always label axes and provide titles:\n",
        "plt.xlabel('x')\n",
        "plt.ylabel(\"f')\n",
        "plt.title('f(x)=cos(3x)')\n",
        "plt.show()"
      ],
      "metadata": {
        "id": "7fOfHmk_bfWe"
      },
      "execution_count": null,
      "outputs": []
    }
  ]
}